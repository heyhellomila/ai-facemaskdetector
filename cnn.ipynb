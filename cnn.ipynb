{
  "nbformat": 4,
  "nbformat_minor": 0,
  "metadata": {
    "colab": {
      "name": "cnn.ipynb",
      "provenance": []
    },
    "kernelspec": {
      "name": "python3",
      "display_name": "Python 3"
    },
    "language_info": {
      "name": "python"
    }
  },
  "cells": [
    {
      "cell_type": "code",
      "execution_count": 8,
      "metadata": {
        "id": "vkY2Gn1WjSPP"
      },
      "outputs": [],
      "source": [
        "# imports\n",
        "import matplotlib.pyplot as plt\n",
        "from torchvision import datasets, transforms\n",
        "from torch.utils.data import DataLoader\n",
        "import torch.nn as nn\n",
        "import torch.nn.functional as F\n",
        "import torch.optim as optim\n",
        "import torch"
      ]
    },
    {
      "cell_type": "code",
      "source": [
        "\n",
        "#from google.colab import drive\n",
        "#drive.mount('/content/drive')\n",
        "\n",
        "device = 'cpu'"
      ],
      "metadata": {
        "id": "btdwKusDjun3"
      },
      "execution_count": 9,
      "outputs": []
    },
    {
      "cell_type": "code",
      "source": [
        "def get_data():\n",
        "    #data_dir = '/content/drive/MyDrive/classified'\n",
        "    data_dir = 'C:/Users/bl/Documents/CNNcomp472/classified'\n",
        "\n",
        "    \n",
        "    transform = transforms.Compose([transforms.ToTensor(),\n",
        "                                    transforms.Resize((128,128)),\n",
        "                                    transforms.Normalize((0.5, 0.5, 0.5),(0.5, 0.5, 0.5))]) \n",
        "\n",
        "    \n",
        "    original_set = datasets.ImageFolder(root=data_dir, transform=transform)  # dataset\n",
        "\n",
        "    print(original_set.classes)\n",
        "    n = len(original_set)  # total number of examples\n",
        "    n_test = int(0.25 * n)  # take ~25% for test\n",
        "    # test_set = torch.utils.data.Subset(original_set, range(n_test))  # take first 25%\n",
        "    # train_set = torch.utils.data.Subset(original_set, range(n_test, n))  # take the rest\n",
        "\n",
        "\n",
        "    train_set, test_set = torch.utils.data.random_split(original_set, [n-n_test, n_test])\n",
        "\n",
        "    train = DataLoader(train_set, batch_size=32, shuffle=True)\n",
        "    test = DataLoader(test_set, batch_size=1000, shuffle=False)\n",
        "\n",
        "    print(len(train_set))\n",
        "    print(len(test_set))\n",
        "    \n",
        "\n",
        "    return train, test, train_set, test_set, original_set"
      ],
      "metadata": {
        "id": "mA_FV6aVjvyU"
      },
      "execution_count": 10,
      "outputs": []
    },
    {
      "cell_type": "code",
      "source": [
        "train, test, train_set, test_set, original_set = get_data()"
      ],
      "metadata": {
        "colab": {
          "base_uri": "https://localhost:8080/"
        },
        "id": "gCHUiFFAkzQz",
        "outputId": "b8c882dc-3014-4f11-833e-f69e1e01ddf2"
      },
      "execution_count": 11,
      "outputs": [
        {
          "output_type": "stream",
          "name": "stdout",
          "text": [
            "['cloth_mask', 'n95_mask', 'no_mask', 'surgical_mask']\n",
            "1204\n",
            "401\n"
          ]
        }
      ]
    },
    {
      "cell_type": "code",
      "source": [
        "class CNN(nn.Module):\n",
        "    def __init__(self):\n",
        "        super(CNN, self).__init__()\n",
        "        \n",
        "        self.conv_layer1 = nn.Sequential(\n",
        "            nn.Conv2d(in_channels=3, out_channels=128, kernel_size=3,stride=1, padding=1),\n",
        "            nn.BatchNorm2d(128),\n",
        "            nn.LeakyReLU(inplace=True),\n",
        "            nn.MaxPool2d(kernel_size=2, stride=2),\n",
        "            nn.Dropout(p=0.1),\n",
        "        )\n",
        "\n",
        "        self.conv_layer2 = nn.Sequential(\n",
        "            nn.Conv2d(in_channels=128, out_channels=128, kernel_size=3,stride=1, padding=1),\n",
        "            nn.BatchNorm2d(128),\n",
        "            nn.LeakyReLU(inplace=True),\n",
        "            nn.MaxPool2d(kernel_size=2, stride=2),\n",
        "            nn.Dropout(p=0.1),\n",
        "        )\n",
        "\n",
        "                \n",
        "        self.conv_layer3 = nn.Sequential(\n",
        "            nn.Conv2d(in_channels=128, out_channels=128, kernel_size=3,stride=1, padding=1),\n",
        "            nn.BatchNorm2d(128),\n",
        "            nn.LeakyReLU(inplace=True),\n",
        "            nn.MaxPool2d(kernel_size=2, stride=2),\n",
        "            nn.Dropout(p=0.1),\n",
        "        )\n",
        "        \n",
        "        self.fc_layer1 = nn.Sequential(\n",
        "            nn.Linear(16 * 16 * 128, 1000),\n",
        "            nn.ReLU(inplace=True),\n",
        "            nn.Dropout(p=0.1),\n",
        "        )\n",
        "\n",
        "        self.fc_layer2 = nn.Sequential(\n",
        "            nn.Linear(1000, 1000),\n",
        "            nn.ReLU(inplace=True),\n",
        "            nn.Dropout(p=0.1),\n",
        "        )\n",
        "\n",
        "        self.fc_layerFinal = nn.Sequential(\n",
        "            nn.Linear(1000, 4),\n",
        "        )\n",
        "        \n",
        "    def forward(self, x):\n",
        "        # conv layers\n",
        "        x = self.conv_layer1(x)\n",
        "        x = self.conv_layer2(x)\n",
        "        x = self.conv_layer3(x)\n",
        "        # flatten\n",
        "        x = x.view(x.size(0), -1)\n",
        "        # fc layers\n",
        "        x = self.fc_layer1(x)\n",
        "        x = self.fc_layer2(x)\n",
        "        x = self.fc_layerFinal(x)\n",
        "        return x\n"
      ],
      "metadata": {
        "id": "E-YIfxbxcAAX"
      },
      "execution_count": 12,
      "outputs": []
    },
    {
      "cell_type": "code",
      "source": [
        "num_epochs = 10\n",
        "num_classes = 4\n",
        "learning_rate = 0.001\n",
        "\n",
        "model = CNN()\n",
        "criterion = nn.CrossEntropyLoss()\n",
        "optimizer = torch.optim.Adam(model.parameters(), lr=learning_rate)"
      ],
      "metadata": {
        "id": "hXLqMj1ak5qO"
      },
      "execution_count": 13,
      "outputs": []
    },
    {
      "cell_type": "code",
      "source": [
        "# print accuracies at each step\n",
        "\n",
        "total_step = len(train)\n",
        "loss_list = []\n",
        "acc_list = []\n",
        "for epoch in range(num_epochs):\n",
        "  for i, (images, labels) in enumerate(train):\n",
        "    # Forward pass\n",
        "    outputs = model(images)\n",
        "    loss = criterion(outputs, labels)\n",
        "    loss_list.append(loss.item())\n",
        "    # Backprop and optimisation\n",
        "    optimizer.zero_grad()\n",
        "    loss.backward()\n",
        "    optimizer.step()\n",
        "    # Train accuracy\n",
        "    total = labels.size(0)\n",
        "    _, predicted = torch.max(outputs.data, 1)\n",
        "    correct = (predicted == labels).sum().item()\n",
        "    acc_list.append(correct / total)\n",
        "        \n",
        "\n",
        "  print('Epoch [{}/{}], Loss: {:.4f}, Accuracy: {:.2f}%'\n",
        "        # print('Epoch [{}/{}], Step [{}/{}], Loss: {:.4f}, Accuracy: {:.2f}%'\n",
        "        .format(epoch + 1, num_epochs, loss.item(),\n",
        "        (correct / total) * 100))\n"
      ],
      "metadata": {
        "id": "RCHE1a1DlxPf",
        "colab": {
          "base_uri": "https://localhost:8080/"
        },
        "outputId": "8c701db5-4878-4872-9d27-94ecb5a7952f"
      },
      "execution_count": 14,
      "outputs": [
        {
          "output_type": "stream",
          "name": "stdout",
          "text": [
            "Epoch [1/10], Loss: 1.4621, Accuracy: 20.00%\n",
            "Epoch [2/10], Loss: 1.2982, Accuracy: 35.00%\n",
            "Epoch [3/10], Loss: 1.1468, Accuracy: 55.00%\n",
            "Epoch [4/10], Loss: 1.0049, Accuracy: 45.00%\n",
            "Epoch [5/10], Loss: 0.9100, Accuracy: 55.00%\n",
            "Epoch [6/10], Loss: 0.8395, Accuracy: 65.00%\n",
            "Epoch [7/10], Loss: 0.7764, Accuracy: 70.00%\n",
            "Epoch [8/10], Loss: 0.8530, Accuracy: 65.00%\n",
            "Epoch [9/10], Loss: 0.8063, Accuracy: 80.00%\n",
            "Epoch [10/10], Loss: 0.8740, Accuracy: 65.00%\n"
          ]
        }
      ]
    },
    {
      "cell_type": "code",
      "source": [
        "# overall accuracy \n",
        "with torch.no_grad():\n",
        "    correct = 0\n",
        "    total = 0\n",
        "    for pred_images, pred_labels in test:\n",
        "        pred_images = pred_images.to(device)\n",
        "        pred_labels = pred_labels.to(device)\n",
        "        pred_outputs = model(pred_images)\n",
        "        _, pred_predicted = torch.max(pred_outputs.data, 1)\n",
        "        total += pred_labels.size(0)\n",
        "        correct += (pred_predicted == pred_labels).sum().item()\n",
        "    \n",
        "    print('Accuracy of the network on the {} train images: {} %'.format(len(test.dataset), (correct / total)*100 ))"
      ],
      "metadata": {
        "id": "yhByp5-NmLl8",
        "colab": {
          "base_uri": "https://localhost:8080/"
        },
        "outputId": "50cc156a-0ff4-4418-e572-e249306704ce"
      },
      "execution_count": 15,
      "outputs": [
        {
          "output_type": "stream",
          "name": "stdout",
          "text": [
            "Accuracy of the network on the 401 train images: 53.86533665835411 %\n"
          ]
        }
      ]
    },
    {
      "cell_type": "code",
      "source": [
        "# print tensors\n",
        "\n",
        "classes = original_set.classes\n",
        "with torch.no_grad():\n",
        "    model.eval()\n",
        "    correct = 0\n",
        "    total = 0\n",
        "    for images, labels in test:\n",
        "        images = images.to(device)\n",
        "        labels = labels.to(device)\n",
        "        outputs = model(images)\n",
        "        _, predicted = torch.max(outputs.data, 1)\n",
        "        print(\"Predicted: \",predicted, len(predicted))\n",
        "        print(\"Expected: \",labels,len(labels))\n",
        "        total += labels.size(0)"
      ],
      "metadata": {
        "id": "QesyDPeVof8-",
        "colab": {
          "base_uri": "https://localhost:8080/"
        },
        "outputId": "eed33af1-5395-47fd-915e-df04107aab82"
      },
      "execution_count": 16,
      "outputs": [
        {
          "output_type": "stream",
          "name": "stdout",
          "text": [
            "Predicted:  tensor([2, 0, 2, 1, 0, 0, 2, 1, 1, 2, 3, 3, 0, 2, 1, 2, 1, 2, 2, 2, 3, 2, 1, 0,\n",
            "        3, 3, 2, 2, 1, 0, 2, 2, 2, 0, 0, 0, 0, 2, 0, 2, 2, 0, 0, 2, 2, 0, 2, 1,\n",
            "        0, 1, 0, 0, 0, 2, 2, 2, 2, 2, 0, 2, 0, 1, 2, 0, 0, 1, 3, 2, 2, 3, 2, 0,\n",
            "        0, 3, 2, 2, 2, 0, 2, 1, 1, 2, 0, 3, 0, 2, 2, 2, 2, 0, 2, 2, 0, 0, 1, 2,\n",
            "        0, 2, 2, 1, 1, 2, 0, 0, 2, 2, 2, 2, 0, 0, 3, 2, 2, 1, 2, 2, 2, 2, 2, 1,\n",
            "        0, 0, 3, 2, 2, 0, 3, 2, 1, 3, 0, 1, 0, 3, 0, 2, 0, 0, 1, 1, 3, 0, 2, 2,\n",
            "        0, 0, 0, 2, 1, 2, 2, 2, 2, 0, 1, 2, 2, 0, 0, 2, 0, 0, 3, 3, 2, 3, 2, 1,\n",
            "        2, 2, 2, 1, 3, 0, 3, 3, 2, 1, 2, 1, 2, 2, 2, 2, 2, 0, 2, 3, 1, 3, 2, 2,\n",
            "        0, 0, 0, 0, 3, 2, 2, 0, 2, 2, 1, 3, 3, 2, 2, 2, 2, 2, 0, 2, 2, 0, 1, 0,\n",
            "        2, 0, 2, 3, 0, 2, 0, 1, 1, 1, 2, 0, 2, 0, 2, 0, 0, 2, 2, 0, 1, 2, 2, 3,\n",
            "        0, 2, 2, 0, 2, 2, 0, 2, 3, 0, 0, 1, 2, 3, 0, 3, 2, 1, 2, 1, 2, 2, 1, 2,\n",
            "        3, 2, 2, 0, 2, 2, 0, 0, 0, 2, 0, 1, 2, 3, 0, 1, 3, 2, 3, 0, 3, 1, 3, 2,\n",
            "        2, 1, 2, 0, 2, 0, 2, 0, 2, 0, 2, 2, 3, 2, 1, 0, 0, 1, 2, 0, 1, 2, 3, 0,\n",
            "        0, 2, 2, 0, 0, 0, 0, 2, 2, 1, 3, 0, 2, 2, 0, 2, 2, 2, 2, 2, 0, 0, 0, 2,\n",
            "        0, 2, 1, 3, 2, 0, 2, 2, 1, 1, 1, 0, 3, 2, 0, 2, 2, 0, 1, 2, 2, 1, 1, 2,\n",
            "        3, 3, 2, 2, 0, 1, 2, 2, 2, 2, 0, 2, 2, 3, 2, 2, 3, 3, 2, 0, 0, 2, 2, 2,\n",
            "        2, 0, 0, 1, 2, 0, 0, 0, 2, 2, 2, 2, 2, 2, 2, 1, 0]) 401\n",
            "Expected:  tensor([1, 1, 2, 0, 3, 0, 3, 1, 1, 2, 3, 3, 0, 0, 1, 3, 3, 3, 1, 2, 2, 1, 1, 0,\n",
            "        3, 1, 2, 1, 2, 1, 3, 0, 0, 1, 2, 1, 0, 2, 1, 2, 1, 0, 0, 1, 1, 3, 3, 3,\n",
            "        0, 2, 0, 0, 0, 0, 0, 2, 1, 1, 0, 2, 2, 1, 0, 0, 2, 1, 3, 2, 3, 3, 2, 3,\n",
            "        3, 3, 1, 2, 0, 3, 0, 3, 1, 3, 2, 3, 0, 3, 0, 1, 2, 3, 2, 2, 2, 2, 3, 1,\n",
            "        0, 2, 3, 1, 1, 3, 2, 2, 1, 1, 0, 0, 0, 0, 3, 2, 1, 1, 2, 1, 2, 2, 2, 3,\n",
            "        3, 0, 1, 0, 0, 0, 3, 0, 1, 1, 0, 1, 0, 2, 0, 2, 3, 3, 3, 3, 3, 0, 2, 1,\n",
            "        1, 0, 3, 3, 1, 0, 2, 1, 0, 1, 3, 0, 2, 0, 3, 2, 3, 0, 1, 3, 2, 3, 1, 3,\n",
            "        2, 2, 2, 1, 3, 0, 3, 3, 1, 1, 1, 1, 2, 2, 3, 1, 1, 0, 2, 3, 3, 1, 2, 3,\n",
            "        0, 0, 0, 1, 3, 2, 2, 1, 3, 2, 3, 3, 0, 2, 2, 2, 0, 0, 0, 1, 1, 1, 1, 0,\n",
            "        0, 0, 2, 3, 3, 3, 0, 3, 3, 1, 3, 0, 2, 3, 1, 3, 0, 2, 2, 0, 1, 0, 2, 0,\n",
            "        3, 3, 3, 3, 2, 1, 3, 2, 3, 3, 0, 1, 1, 0, 0, 1, 2, 3, 2, 1, 1, 2, 1, 0,\n",
            "        3, 2, 2, 0, 0, 2, 0, 0, 0, 1, 0, 1, 1, 2, 3, 1, 2, 1, 3, 0, 1, 3, 3, 2,\n",
            "        2, 0, 2, 2, 2, 0, 2, 3, 2, 0, 1, 2, 1, 0, 2, 0, 2, 1, 3, 0, 3, 2, 0, 0,\n",
            "        3, 0, 1, 2, 0, 0, 0, 0, 2, 2, 0, 3, 2, 2, 0, 3, 0, 1, 2, 1, 2, 1, 0, 2,\n",
            "        1, 2, 1, 3, 2, 1, 3, 2, 3, 2, 1, 0, 2, 2, 1, 2, 0, 3, 1, 2, 3, 3, 2, 1,\n",
            "        2, 3, 3, 1, 0, 2, 0, 2, 1, 2, 0, 2, 2, 0, 0, 3, 1, 3, 3, 0, 3, 2, 2, 2,\n",
            "        2, 2, 0, 3, 0, 0, 0, 0, 2, 2, 2, 3, 1, 2, 1, 1, 0]) 401\n"
          ]
        }
      ]
    },
    {
      "cell_type": "code",
      "source": [
        "from sklearn.metrics import precision_recall_fscore_support as score\n",
        "from sklearn.metrics import classification_report\n",
        "\n",
        "eval_labels = pred_labels.detach().cpu()\n",
        "eval_predictions = pred_predicted.detach().cpu()\n",
        "\n",
        "print(classification_report(eval_labels, eval_predictions))"
      ],
      "metadata": {
        "id": "fmSRHt9xpg9w",
        "colab": {
          "base_uri": "https://localhost:8080/"
        },
        "outputId": "325656a5-d6ad-492b-83c4-cdaade5ffac7"
      },
      "execution_count": 17,
      "outputs": [
        {
          "output_type": "stream",
          "name": "stdout",
          "text": [
            "              precision    recall  f1-score   support\n",
            "\n",
            "           0       0.61      0.55      0.58       103\n",
            "           1       0.50      0.52      0.51        93\n",
            "           2       0.50      0.69      0.58       109\n",
            "           3       0.58      0.38      0.46        96\n",
            "\n",
            "    accuracy                           0.54       401\n",
            "   macro avg       0.55      0.53      0.53       401\n",
            "weighted avg       0.55      0.54      0.53       401\n",
            "\n"
          ]
        }
      ]
    },
    {
      "cell_type": "code",
      "source": [
        "from sklearn.metrics import confusion_matrix, ConfusionMatrixDisplay\n",
        "from matplotlib.pyplot import figure\n",
        "\n",
        "figure(figsize=(80, 60), dpi=80)\n",
        "cm = confusion_matrix(eval_labels, eval_predictions)\n",
        "disp = ConfusionMatrixDisplay(confusion_matrix=cm,\n",
        "                              display_labels=original_set.classes)\n",
        "disp.plot()\n",
        "\n",
        "plt.show()"
      ],
      "metadata": {
        "id": "Ynb8AlcYqSBg",
        "colab": {
          "base_uri": "https://localhost:8080/",
          "height": 298
        },
        "outputId": "dbe91cdd-88f7-44c2-9bb4-64977007f4f6"
      },
      "execution_count": 18,
      "outputs": [
        {
          "output_type": "display_data",
          "data": {
            "text/plain": [
              "<Figure size 6400x4800 with 0 Axes>"
            ]
          },
          "metadata": {}
        },
        {
          "output_type": "display_data",
          "data": {
            "text/plain": [
              "<Figure size 432x288 with 2 Axes>"
            ],
            "image/png": "[encoded data removed]"
          },
          "metadata": {
            "needs_background": "light"
          }
        }
      ]
    }
  ]
}