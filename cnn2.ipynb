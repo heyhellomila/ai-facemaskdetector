{
  "nbformat": 4,
  "nbformat_minor": 0,
  "metadata": {
    "colab": {
      "name": "cnn.ipynb",
      "provenance": []
    },
    "kernelspec": {
      "name": "python3",
      "display_name": "Python 3"
    },
    "language_info": {
      "name": "python"
    }
  },
  "cells": [
    {
      "cell_type": "code",
      "source": [
        "import torch\n",
        "torch.cuda.is_available()"
      ],
      "metadata": {
        "colab": {
          "base_uri": "https://localhost:8080/"
        },
        "id": "6U0Sv703WkRE",
        "outputId": "c64a429e-fe16-4090-ea79-48362f8a779d"
      },
      "execution_count": 513,
      "outputs": [
        {
          "output_type": "execute_result",
          "data": {
            "text/plain": [
              "True"
            ]
          },
          "metadata": {},
          "execution_count": 513
        }
      ]
    },
    {
      "cell_type": "code",
      "execution_count": 514,
      "metadata": {
        "id": "vkY2Gn1WjSPP"
      },
      "outputs": [],
      "source": [
        "# imports\n",
        "import matplotlib.pyplot as plt\n",
        "from torchvision import datasets, transforms\n",
        "from torch.utils.data import DataLoader\n",
        "import torch.nn as nn\n",
        "import torch.nn.functional as F\n",
        "import torch.optim as optim\n",
        "import torch"
      ]
    },
    {
      "cell_type": "code",
      "source": [
        "\n",
        "#from google.colab import drive\n",
        "#drive.mount('/content/drive')\n",
        "\n",
        "#device = 'cpu'\n",
        "device=torch.device(\"cuda\")"
      ],
      "metadata": {
        "id": "btdwKusDjun3"
      },
      "execution_count": 515,
      "outputs": []
    },
    {
      "cell_type": "code",
      "source": [
        "# Clearing Cuda cach\n",
        "import gc\n",
        "\n",
        "gc.collect()\n",
        "\n",
        "torch.cuda.empty_cache()"
      ],
      "metadata": {
        "id": "q4d7hiFBnFXY"
      },
      "execution_count": 516,
      "outputs": []
    },
    {
      "cell_type": "code",
      "source": [
        "def get_data():\n",
        "    #data_dir = '/content/drive/MyDrive/classified'\n",
        "    data_dir = 'C:/Users/bl/Documents/CNNcomp472/classified'\n",
        "    \n",
        "    \n",
        "    transform = transforms.Compose([transforms.ToTensor(),\n",
        "                                    transforms.Resize((256,256)),\n",
        "                                    transforms.Normalize((0.5, 0.5, 0.5),(0.5, 0.5, 0.5))]) \n",
        "\n",
        "    \n",
        "    original_set = datasets.ImageFolder(root=data_dir, transform=transform)  # dataset\n",
        "\n",
        "    print(original_set.classes)\n",
        "    n = len(original_set)  # total number of examples\n",
        "    n_test= int(0.25*n)# take ~25% for test\n",
        "    for x in range(0, 9): # rounding it to be divisible by 4\n",
        "      n_test+=1\n",
        "      if n_test % 4 == 0: \n",
        "        break \n",
        "\n",
        "    # test_set = torch.utils.data.Subset(original_set, range(n_test))  # take first 25%\n",
        "    # train_set = torch.utils.data.Subset(original_set, range(n_test, n))  # take the rest\n",
        "\n",
        "\n",
        "    train_set, test_set = torch.utils.data.random_split(original_set, [n-n_test, n_test])\n",
        "\n",
        "    train = DataLoader(train_set, batch_size=32, shuffle=True)\n",
        "    test = DataLoader(test_set, batch_size=int(len(test_set)/4), shuffle=False)\n",
        "\n",
        "    print(len(train_set))\n",
        "    print(len(test_set))\n",
        "    print(n)\n",
        "    \n",
        "\n",
        "    return train, test, train_set, test_set, original_set"
      ],
      "metadata": {
        "id": "mA_FV6aVjvyU"
      },
      "execution_count": 517,
      "outputs": []
    },
    {
      "cell_type": "code",
      "source": [
        "train, test, train_set, test_set, original_set = get_data()"
      ],
      "metadata": {
        "colab": {
          "base_uri": "https://localhost:8080/"
        },
        "id": "gCHUiFFAkzQz",
        "outputId": "ad01de18-fc7b-4d7a-f11f-0b8e2c18fd57"
      },
      "execution_count": 518,
      "outputs": [
        {
          "output_type": "stream",
          "name": "stdout",
          "text": [
            "['cloth_mask', 'n95_mask', 'no_mask', 'surgical_mask']\n",
            "1201\n",
            "404\n",
            "1605\n"
          ]
        }
      ]
    },
    {
      "cell_type": "code",
      "source": [
        "class CNN(nn.Module):\n",
        "    def __init__(self):\n",
        "        super(CNN, self).__init__()\n",
        "        \n",
        "        self.conv_layer1 = nn.Sequential(\n",
        "            nn.Conv2d(in_channels=3, out_channels=32, kernel_size=3,stride=1, padding=1),\n",
        "            nn.BatchNorm2d(32),\n",
        "            nn.LeakyReLU(inplace=True),\n",
        "            nn.MaxPool2d(kernel_size=2, stride=2),\n",
        "            nn.Dropout(p=0.1),\n",
        "        )\n",
        "\n",
        "        self.conv_layer2 = nn.Sequential(\n",
        "            nn.Conv2d(in_channels=32, out_channels=64, kernel_size=3,stride=1, padding=1),\n",
        "            nn.BatchNorm2d(64),\n",
        "            nn.LeakyReLU(inplace=True),\n",
        "            nn.MaxPool2d(kernel_size=2, stride=2),\n",
        "            nn.Dropout(p=0.1),\n",
        "        )\n",
        "\n",
        "                \n",
        "        self.conv_layer3 = nn.Sequential(\n",
        "            nn.Conv2d(in_channels=64, out_channels=128, kernel_size=3,stride=1, padding=1),\n",
        "            nn.BatchNorm2d(128),\n",
        "            nn.LeakyReLU(inplace=True),\n",
        "            nn.MaxPool2d(kernel_size=2, stride=2),\n",
        "            nn.Dropout(p=0.1),\n",
        "        )\n",
        "        \n",
        "        self.fc_layer1 = nn.Sequential(\n",
        "            nn.Linear(32 * 32 * 128, 1000),\n",
        "            nn.ReLU(inplace=True),\n",
        "            nn.Dropout(p=0.1),\n",
        "        )\n",
        "\n",
        "        self.fc_layer2 = nn.Sequential(\n",
        "            nn.Linear(1000, 1000),\n",
        "            nn.ReLU(inplace=True),\n",
        "            nn.Dropout(p=0.1),\n",
        "        )\n",
        "\n",
        "        self.fc_layerFinal = nn.Sequential(\n",
        "            nn.Linear(1000, 4),\n",
        "        )\n",
        "        \n",
        "    def forward(self, x):\n",
        "        # conv layers\n",
        "        x = self.conv_layer1(x)\n",
        "        x = self.conv_layer2(x)\n",
        "        x = self.conv_layer3(x)\n",
        "        # flatten\n",
        "        x = x.view(x.size(0), -1)\n",
        "        # fc layers\n",
        "        x = self.fc_layer1(x)\n",
        "        x = self.fc_layer2(x)\n",
        "        x = self.fc_layerFinal(x)\n",
        "        return x\n"
      ],
      "metadata": {
        "id": "E-YIfxbxcAAX"
      },
      "execution_count": 519,
      "outputs": []
    },
    {
      "cell_type": "code",
      "source": [
        "num_epochs = 25\n",
        "num_classes = 4\n",
        "learning_rate = 0.001\n",
        "\n",
        "model = CNN()\n",
        "model.to(device)\n",
        "criterion = nn.CrossEntropyLoss()\n",
        "optimizer = torch.optim.Adam(model.parameters(), lr=learning_rate)"
      ],
      "metadata": {
        "id": "hXLqMj1ak5qO"
      },
      "execution_count": 520,
      "outputs": []
    },
    {
      "cell_type": "code",
      "source": [
        "# print accuracies at each step\n",
        "\n",
        "total_step = len(train)\n",
        "loss_list = []\n",
        "acc_list = []\n",
        "iterations=[]\n",
        "\n",
        "n=0\n",
        "for epoch in range(num_epochs):\n",
        "  for i, (images, labels) in enumerate(train):\n",
        "    # Move them to device (cuda or cpu)\n",
        "    images = images.to(device)\n",
        "    labels = labels.to(device)\n",
        "    # Forward pass\n",
        "    outputs = model(images)\n",
        "    loss = criterion(outputs, labels)\n",
        "    loss_list.append(loss.item())\n",
        "    # Backprop and optimisation\n",
        "    optimizer.zero_grad()\n",
        "    loss.backward()\n",
        "    optimizer.step()\n",
        "    # Train accuracy\n",
        "    total = labels.size(0)\n",
        "    _, predicted = torch.max(outputs.data, 1)\n",
        "    correct = (predicted == labels).sum().item()\n",
        "    acc_list.append(correct / total)\n",
        "\n",
        "    #\n",
        "    iterations.append(n)\n",
        "    n+=1\n",
        "    \n",
        "  print('Epoch [{}/{}], Loss: {:.4f}, Accuracy: {:.2f}%'\n",
        "        # print('Epoch [{}/{}], Step [{}/{}], Loss: {:.4f}, Accuracy: {:.2f}%'\n",
        "        .format(epoch + 1, num_epochs, loss.item(),\n",
        "        (correct / total) * 100))\n",
        "  \n",
        "# plotting\n",
        "plt.plot(iterations, loss_list)\n",
        "plt.title(\"Training Curve (batch_size={}, lr={})\".format(len(train_set), learning_rate))\n",
        "plt.xlabel(\"Iterations\")\n",
        "plt.ylabel(\"Loss\")\n",
        "plt.show()\n",
        "plt.plot(iterations, acc_list)\n",
        "plt.title(\"Training Curve (batch_size={}, lr={})\".format(len(train_set), learning_rate))\n",
        "plt.xlabel(\"Iterations\")\n",
        "plt.ylabel(\"Training Accuracy\")\n",
        "plt.show()  \n"
      ],
      "metadata": {
        "id": "RCHE1a1DlxPf",
        "colab": {
          "base_uri": "https://localhost:8080/",
          "height": 1000
        },
        "outputId": "e5e197d6-b5ce-4fae-fb3c-71c7c4504160"
      },
      "execution_count": 521,
      "outputs": [
        {
          "output_type": "stream",
          "name": "stdout",
          "text": [
            "Epoch [1/25], Loss: 1.6621, Accuracy: 35.29%\n",
            "Epoch [2/25], Loss: 1.2232, Accuracy: 41.18%\n",
            "Epoch [3/25], Loss: 1.1161, Accuracy: 58.82%\n",
            "Epoch [4/25], Loss: 1.0707, Accuracy: 47.06%\n",
            "Epoch [5/25], Loss: 1.1563, Accuracy: 52.94%\n",
            "Epoch [6/25], Loss: 1.0235, Accuracy: 58.82%\n",
            "Epoch [7/25], Loss: 0.8739, Accuracy: 76.47%\n",
            "Epoch [8/25], Loss: 1.0121, Accuracy: 58.82%\n",
            "Epoch [9/25], Loss: 1.2380, Accuracy: 41.18%\n",
            "Epoch [10/25], Loss: 0.9031, Accuracy: 64.71%\n",
            "Epoch [11/25], Loss: 0.6001, Accuracy: 82.35%\n",
            "Epoch [12/25], Loss: 0.4328, Accuracy: 94.12%\n",
            "Epoch [13/25], Loss: 0.5594, Accuracy: 76.47%\n",
            "Epoch [14/25], Loss: 0.6133, Accuracy: 76.47%\n",
            "Epoch [15/25], Loss: 0.6667, Accuracy: 82.35%\n",
            "Epoch [16/25], Loss: 0.5885, Accuracy: 88.24%\n",
            "Epoch [17/25], Loss: 0.2563, Accuracy: 94.12%\n",
            "Epoch [18/25], Loss: 0.4644, Accuracy: 82.35%\n",
            "Epoch [19/25], Loss: 0.9032, Accuracy: 76.47%\n",
            "Epoch [20/25], Loss: 0.3043, Accuracy: 88.24%\n",
            "Epoch [21/25], Loss: 0.0908, Accuracy: 94.12%\n",
            "Epoch [22/25], Loss: 0.1046, Accuracy: 100.00%\n",
            "Epoch [23/25], Loss: 0.6871, Accuracy: 64.71%\n",
            "Epoch [24/25], Loss: 0.2049, Accuracy: 94.12%\n",
            "Epoch [25/25], Loss: 0.0077, Accuracy: 100.00%\n"
          ]
        },
        {
          "output_type": "display_data",
          "data": {
            "text/plain": [
              "<Figure size 432x288 with 1 Axes>"
            ],
            "image/png": "[encoded data removed]"
          },
          "metadata": {
            "needs_background": "light"
          }
        },
        {
          "output_type": "display_data",
          "data": {
            "text/plain": [
              "<Figure size 432x288 with 1 Axes>"
            ],
            "image/png": "[encoded data removed]"
          },
          "metadata": {
            "needs_background": "light"
          }
        }
      ]
    },
    {
      "cell_type": "code",
      "source": [
        "# Saving the trained model and emptying the GPU memory\n",
        "torch.save(model.state_dict(), 'C:/Users/bl/Desktop/cnnModelSaves/model.pth')\n",
        "#del model\n",
        "torch.cuda.empty_cache()"
      ],
      "metadata": {
        "id": "O1KFCcFkQFUz"
      },
      "execution_count": 522,
      "outputs": []
    },
    {
      "cell_type": "code",
      "source": [
        "#Loading the model before testing\n",
        "model = CNN()\n",
        "model.load_state_dict(torch.load('C:/Users/bl/Desktop/cnnModelSaves/model.pth'))\n",
        "model = model.to(device)"
      ],
      "metadata": {
        "id": "JHPUUjejQv6W"
      },
      "execution_count": 523,
      "outputs": []
    },
    {
      "cell_type": "code",
      "source": [
        "# overall accuracy \n",
        "with torch.no_grad():\n",
        "    correct = 0\n",
        "    total = 0\n",
        "    for pred_images, pred_labels in test:\n",
        "        pred_images = pred_images.to(device)\n",
        "        pred_labels = pred_labels.to(device)\n",
        "        pred_outputs = model(pred_images)\n",
        "        _, pred_predicted = torch.max(pred_outputs.data, 1)\n",
        "        total += pred_labels.size(0)\n",
        "        correct += (pred_predicted == pred_labels).sum().item()\n",
        "    \n",
        "    print('Accuracy of the network on the {} train images: {} %'.format(len(test.dataset), (correct / total)*100 ))"
      ],
      "metadata": {
        "id": "yhByp5-NmLl8",
        "colab": {
          "base_uri": "https://localhost:8080/"
        },
        "outputId": "4ee89e0f-d490-4dae-ad5b-a7d1b90f5c1b"
      },
      "execution_count": 524,
      "outputs": [
        {
          "output_type": "stream",
          "name": "stdout",
          "text": [
            "Accuracy of the network on the 404 train images: 45.54455445544555 %\n"
          ]
        }
      ]
    },
    {
      "cell_type": "code",
      "source": [
        "# print tensors\n",
        "\n",
        "classes = original_set.classes\n",
        "with torch.no_grad():\n",
        "    model.eval()\n",
        "    correct = 0\n",
        "    total = 0\n",
        "    for images, labels in test:\n",
        "        images = images.to(device)\n",
        "        labels = labels.to(device)\n",
        "        outputs = model(images)\n",
        "        _, predicted = torch.max(outputs.data, 1)\n",
        "        print(\"Predicted: \",predicted, len(predicted))\n",
        "        print(\"Expected: \",labels,len(labels))\n",
        "        total += labels.size(0)"
      ],
      "metadata": {
        "id": "QesyDPeVof8-",
        "colab": {
          "base_uri": "https://localhost:8080/"
        },
        "outputId": "f1fdce44-de8f-4743-f589-8ed3742aace3"
      },
      "execution_count": 525,
      "outputs": [
        {
          "output_type": "stream",
          "name": "stdout",
          "text": [
            "Predicted:  tensor([1, 3, 0, 3, 3, 3, 2, 3, 1, 0, 2, 0, 3, 0, 3, 1, 0, 1, 3, 0, 2, 3, 2, 0,\n",
            "        2, 1, 3, 2, 3, 1, 2, 1, 2, 1, 2, 1, 0, 3, 1, 3, 2, 2, 3, 0, 2, 2, 1, 1,\n",
            "        2, 1, 2, 1, 0, 1, 2, 2, 3, 2, 3, 0, 3, 3, 3, 2, 3, 1, 0, 0, 0, 2, 1, 0,\n",
            "        1, 2, 1, 2, 2, 1, 1, 0, 3, 1, 2, 3, 1, 2, 1, 2, 1, 2, 1, 1, 3, 1, 1, 2,\n",
            "        0, 1, 0, 3, 0], device='cuda:0') 101\n",
            "Expected:  tensor([3, 0, 0, 1, 3, 3, 1, 1, 1, 0, 1, 0, 1, 2, 1, 2, 0, 2, 2, 0, 3, 1, 2, 2,\n",
            "        2, 2, 3, 2, 1, 3, 0, 1, 0, 2, 2, 2, 0, 2, 1, 3, 2, 1, 1, 0, 2, 0, 2, 3,\n",
            "        2, 0, 0, 3, 0, 3, 0, 2, 3, 2, 3, 2, 3, 3, 1, 2, 3, 2, 0, 2, 0, 1, 1, 0,\n",
            "        3, 2, 1, 2, 0, 1, 1, 3, 3, 1, 0, 3, 0, 1, 2, 0, 0, 3, 1, 0, 2, 3, 2, 2,\n",
            "        0, 1, 0, 3, 0], device='cuda:0') 101\n",
            "Predicted:  tensor([3, 0, 1, 3, 1, 0, 2, 3, 2, 1, 1, 0, 2, 2, 2, 1, 3, 2, 1, 0, 3, 0, 1, 1,\n",
            "        1, 2, 0, 1, 0, 1, 1, 1, 1, 1, 2, 1, 3, 3, 0, 1, 1, 1, 0, 1, 1, 3, 3, 3,\n",
            "        2, 3, 3, 2, 2, 0, 2, 0, 2, 1, 3, 1, 3, 3, 0, 1, 3, 1, 1, 3, 1, 0, 0, 3,\n",
            "        0, 3, 2, 2, 0, 2, 2, 1, 1, 0, 1, 1, 1, 0, 3, 0, 1, 3, 0, 3, 1, 1, 2, 0,\n",
            "        1, 0, 0, 0, 3], device='cuda:0') 101\n",
            "Expected:  tensor([0, 3, 3, 0, 2, 2, 2, 3, 2, 1, 2, 0, 0, 1, 2, 1, 0, 0, 2, 2, 1, 2, 1, 2,\n",
            "        0, 2, 0, 3, 1, 1, 1, 1, 1, 1, 0, 2, 3, 2, 0, 3, 1, 3, 2, 0, 1, 0, 1, 3,\n",
            "        2, 3, 3, 1, 2, 0, 0, 0, 0, 1, 1, 1, 3, 0, 0, 1, 3, 1, 1, 2, 2, 1, 3, 0,\n",
            "        0, 1, 2, 2, 1, 3, 2, 3, 2, 2, 1, 2, 3, 2, 3, 2, 3, 3, 3, 1, 2, 0, 2, 1,\n",
            "        3, 0, 0, 0, 0], device='cuda:0') 101\n",
            "Predicted:  tensor([1, 1, 1, 1, 1, 0, 1, 1, 3, 2, 1, 1, 1, 3, 2, 1, 3, 1, 2, 0, 2, 1, 0, 3,\n",
            "        0, 0, 2, 3, 1, 0, 0, 1, 0, 0, 2, 1, 0, 3, 0, 1, 3, 0, 0, 3, 1, 0, 1, 1,\n",
            "        1, 3, 0, 0, 2, 3, 2, 3, 1, 2, 2, 1, 3, 3, 1, 2, 3, 0, 0, 0, 0, 1, 3, 0,\n",
            "        3, 2, 3, 3, 1, 2, 3, 3, 0, 0, 1, 3, 0, 2, 1, 0, 1, 1, 2, 1, 1, 3, 1, 0,\n",
            "        1, 2, 0, 1, 0], device='cuda:0') 101\n",
            "Expected:  tensor([0, 3, 0, 2, 3, 0, 3, 1, 1, 0, 3, 1, 3, 0, 0, 1, 3, 1, 2, 0, 2, 1, 2, 3,\n",
            "        2, 0, 0, 3, 1, 0, 0, 0, 2, 0, 0, 1, 0, 1, 0, 1, 3, 0, 0, 3, 1, 0, 3, 3,\n",
            "        2, 1, 0, 0, 1, 3, 2, 3, 1, 0, 2, 2, 3, 1, 1, 2, 3, 0, 0, 0, 2, 2, 3, 3,\n",
            "        3, 2, 2, 3, 2, 3, 0, 0, 1, 0, 2, 2, 0, 2, 3, 2, 1, 1, 2, 3, 1, 3, 1, 0,\n",
            "        2, 2, 0, 3, 3], device='cuda:0') 101\n",
            "Predicted:  tensor([3, 3, 0, 0, 0, 3, 0, 3, 3, 3, 1, 2, 3, 2, 0, 1, 1, 3, 0, 0, 0, 0, 2, 3,\n",
            "        2, 3, 1, 0, 1, 1, 1, 0, 2, 0, 1, 1, 2, 0, 3, 0, 1, 0, 1, 1, 1, 1, 2, 1,\n",
            "        1, 2, 1, 2, 2, 1, 1, 0, 3, 0, 3, 3, 1, 0, 1, 1, 3, 2, 1, 1, 2, 1, 3, 0,\n",
            "        1, 0, 0, 0, 1, 1, 1, 1, 3, 2, 3, 0, 2, 1, 2, 3, 1, 3, 1, 1, 2, 1, 3, 1,\n",
            "        0, 3, 1, 1, 1], device='cuda:0') 101\n",
            "Expected:  tensor([2, 1, 3, 1, 2, 1, 0, 0, 3, 3, 2, 0, 3, 2, 0, 2, 0, 0, 0, 1, 0, 2, 3, 2,\n",
            "        2, 2, 1, 0, 3, 1, 3, 2, 2, 1, 3, 1, 0, 0, 3, 0, 0, 2, 1, 0, 0, 1, 3, 1,\n",
            "        1, 2, 0, 1, 2, 1, 1, 0, 1, 3, 2, 2, 1, 0, 1, 1, 3, 2, 2, 2, 3, 1, 3, 3,\n",
            "        3, 3, 0, 0, 1, 3, 1, 1, 3, 0, 3, 2, 1, 3, 2, 1, 1, 0, 3, 0, 2, 0, 0, 2,\n",
            "        2, 1, 2, 1, 1], device='cuda:0') 101\n"
          ]
        }
      ]
    },
    {
      "cell_type": "code",
      "source": [
        "from sklearn.metrics import precision_recall_fscore_support as score\n",
        "from sklearn.metrics import classification_report\n",
        "\n",
        "eval_labels = pred_labels.detach().cpu()\n",
        "eval_predictions = pred_predicted.detach().cpu()\n",
        "\n",
        "\n",
        "print(classification_report(eval_labels, eval_predictions))"
      ],
      "metadata": {
        "id": "fmSRHt9xpg9w",
        "colab": {
          "base_uri": "https://localhost:8080/"
        },
        "outputId": "498a670f-c00c-4471-d9bf-8003e59957bc"
      },
      "execution_count": 526,
      "outputs": [
        {
          "output_type": "stream",
          "name": "stdout",
          "text": [
            "              precision    recall  f1-score   support\n",
            "\n",
            "           0       0.39      0.48      0.43        25\n",
            "           1       0.44      0.52      0.48        29\n",
            "           2       0.41      0.28      0.33        25\n",
            "           3       0.32      0.27      0.29        22\n",
            "\n",
            "    accuracy                           0.40       101\n",
            "   macro avg       0.39      0.39      0.38       101\n",
            "weighted avg       0.39      0.40      0.39       101\n",
            "\n"
          ]
        }
      ]
    },
    {
      "cell_type": "code",
      "source": [
        "from sklearn.metrics import confusion_matrix, ConfusionMatrixDisplay\n",
        "from matplotlib.pyplot import figure\n",
        "\n",
        "figure(figsize=(80, 60), dpi=80)\n",
        "cm = confusion_matrix(eval_labels, eval_predictions)\n",
        "disp = ConfusionMatrixDisplay(confusion_matrix=cm,\n",
        "                              display_labels=original_set.classes)\n",
        "disp.plot()\n",
        "\n",
        "plt.show()"
      ],
      "metadata": {
        "id": "Ynb8AlcYqSBg",
        "colab": {
          "base_uri": "https://localhost:8080/",
          "height": 298
        },
        "outputId": "f88f6c3e-403d-442d-d23b-51b6255c4f4e"
      },
      "execution_count": 527,
      "outputs": [
        {
          "output_type": "display_data",
          "data": {
            "text/plain": [
              "<Figure size 6400x4800 with 0 Axes>"
            ]
          },
          "metadata": {}
        },
        {
          "output_type": "display_data",
          "data": {
            "text/plain": [
              "<Figure size 432x288 with 2 Axes>"
            ],
            "image/png": "[encoded data removed]"
          },
          "metadata": {
            "needs_background": "light"
          }
        }
      ]
    }
  ]
}